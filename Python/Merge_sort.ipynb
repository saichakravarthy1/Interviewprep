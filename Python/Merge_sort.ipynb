{
 "cells": [
  {
   "cell_type": "code",
   "execution_count": 16,
   "metadata": {
    "collapsed": false
   },
   "outputs": [
    {
     "data": {
      "text/plain": [
       "[1, 2, 3, 4, 5, 6, 7, 8]"
      ]
     },
     "execution_count": 16,
     "metadata": {},
     "output_type": "execute_result"
    }
   ],
   "source": [
    "def merge(left,right):\n",
    "    sorted_array = []\n",
    "    while len(left) != 0 and len(right) != 0:\n",
    "        if left[0] < right[0]:\n",
    "            sorted_array.append(left[0])\n",
    "            left.remove(left[0])\n",
    "        else:\n",
    "            sorted_array.append(right[0])\n",
    "            right.remove(right[0])\n",
    "    if len(left) == 0:\n",
    "        sorted_array += right\n",
    "    else:\n",
    "        sorted_array += left\n",
    "    return sorted_array\n",
    "            \n",
    "def mergesort(array):\n",
    "    \n",
    "    if len(array) < 2:\n",
    "        return array\n",
    "    else:\n",
    "        mid = len(array)//2\n",
    "        left = mergesort(array[:mid])\n",
    "        right = mergesort(array[mid:])\n",
    "        return merge(left,right)\n",
    "        \n",
    "        \n",
    "    \n",
    "mergesort([2,5,7,1,8,3,4,6])"
   ]
  },
  {
   "cell_type": "code",
   "execution_count": null,
   "metadata": {
    "collapsed": true
   },
   "outputs": [],
   "source": []
  },
  {
   "cell_type": "code",
   "execution_count": null,
   "metadata": {
    "collapsed": true
   },
   "outputs": [],
   "source": [
    "def merge(left,right):\n",
    "    sorted_array = []\n",
    "    while len(left) != 0 and len(right)!=0:\n",
    "        if left[0] < right[0]:\n",
    "            sorted_array.append(left[0])\n",
    "            left.remove(left[0])\n",
    "        else:\n",
    "            sorted_array.append(right[0])\n",
    "            left.remove(right[0])\n",
    "    if len(left) == 0:\n",
    "        sorted_array += right\n",
    "    else:\n",
    "        sorted_array += left\n",
    "    return sorted_array\n",
    "\n",
    "def merge_sort(array):\n",
    "    if len(array)<2:\n",
    "        return array\n",
    "    else:\n",
    "        mid = len(array)//2\n",
    "        left = merge_sort(array[:mid])\n",
    "        right = merge_sort(array[mid:])\n",
    "        return merge(left,right)"
   ]
  }
 ],
 "metadata": {
  "kernelspec": {
   "display_name": "Python 3",
   "language": "python",
   "name": "python3"
  },
  "language_info": {
   "codemirror_mode": {
    "name": "ipython",
    "version": 3
   },
   "file_extension": ".py",
   "mimetype": "text/x-python",
   "name": "python",
   "nbconvert_exporter": "python",
   "pygments_lexer": "ipython3",
   "version": "3.6.0"
  }
 },
 "nbformat": 4,
 "nbformat_minor": 2
}
