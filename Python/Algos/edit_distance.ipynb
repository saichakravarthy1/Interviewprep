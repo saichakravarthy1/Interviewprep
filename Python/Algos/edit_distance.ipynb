{
 "cells": [
  {
   "cell_type": "code",
   "execution_count": 43,
   "metadata": {
    "collapsed": false
   },
   "outputs": [
    {
     "name": "stdout",
     "output_type": "stream",
     "text": [
      "0\n",
      "1\n",
      "2\n",
      "0\n",
      "1\n",
      "2\n",
      "-- 0 --\n",
      "** 0 **\n",
      "// 0 0\n",
      "// 0 1\n",
      "// 1 0\n",
      "** 1 **\n",
      "// 0 1\n",
      "// 0 2\n",
      "// 1 1\n",
      "2\n"
     ]
    }
   ],
   "source": [
    "def edit_distance(s1,s2):\n",
    "    n1 = len(s1)\n",
    "    n2 = len(s2)\n",
    "    dp = [[i for i in range(n1)],[j for j in range(n2)]]\n",
    "    print(dp[0][0])\n",
    "    print(dp[0][1])\n",
    "    print(dp[0][2])\n",
    "    print(dp[1][0])\n",
    "    print(dp[1][1])\n",
    "    print(dp[1][2])\n",
    "    \n",
    "    for i in range(n1-2):\n",
    "        print(\"--\",i,\"--\")\n",
    "        c1 = s1[i]\n",
    "        for j in range(n2-1):\n",
    "            print(\"**\",j,\"**\")\n",
    "            c2 = s2[j]\n",
    "            if c1 == c2: \n",
    "                dp[i+1][j+1]=dp[i][j]\n",
    "            else:\n",
    "                print(\"//\",i,j)\n",
    "                print(\"//\",i,j+1)\n",
    "                print(\"//\",i+1,j)\n",
    "                replace = dp[i][j]+1\n",
    "                insert = dp[i][j+1]+1\n",
    "                delete = dp[i+1][j]+1\n",
    "                \n",
    "                if replace > insert:\n",
    "                    mi = insert\n",
    "                else: \n",
    "                    mi = replace\n",
    "                if delete < mi:\n",
    "                    mi = delete\n",
    "                dp[i+1][j+1] = mi\n",
    "    return dp[1][n2-1]\n",
    "\n",
    "print(edit_distance(\"abc\",\"def\"))"
   ]
  },
  {
   "cell_type": "code",
   "execution_count": 39,
   "metadata": {
    "collapsed": false
   },
   "outputs": [
    {
     "name": "stdout",
     "output_type": "stream",
     "text": [
      "0\n"
     ]
    }
   ],
   "source": [
    "for i in range(1):\n",
    "    print(i)"
   ]
  },
  {
   "cell_type": "code",
   "execution_count": null,
   "metadata": {
    "collapsed": true
   },
   "outputs": [],
   "source": []
  }
 ],
 "metadata": {
  "kernelspec": {
   "display_name": "Python 3",
   "language": "python",
   "name": "python3"
  },
  "language_info": {
   "codemirror_mode": {
    "name": "ipython",
    "version": 3
   },
   "file_extension": ".py",
   "mimetype": "text/x-python",
   "name": "python",
   "nbconvert_exporter": "python",
   "pygments_lexer": "ipython3",
   "version": "3.6.0"
  }
 },
 "nbformat": 4,
 "nbformat_minor": 2
}
