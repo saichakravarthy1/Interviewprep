{
 "cells": [
  {
   "cell_type": "code",
   "execution_count": 3,
   "metadata": {
    "collapsed": false
   },
   "outputs": [
    {
     "name": "stdout",
     "output_type": "stream",
     "text": [
      "False\n",
      "2\n"
     ]
    }
   ],
   "source": [
    "class Stack:\n",
    "    def __init__(self):\n",
    "        self.items = []\n",
    "        \n",
    "    def push(self,val):\n",
    "        self.items.append(val)\n",
    "    \n",
    "    def pop(self,val):\n",
    "        self.items.pop()\n",
    "    \n",
    "    def peek(self, val):\n",
    "        return slef.items[len(items)-1]\n",
    "    \n",
    "    def isEmpty(self):\n",
    "        return len(self.items) == 0\n",
    "    \n",
    "    def size(self):\n",
    "        return len(self.items)\n",
    "    \n",
    "mystack = Stack()\n",
    "\n",
    "mystack.push(5)\n",
    "print(mystack.isEmpty())\n",
    "mystack.push(7)\n",
    "print(mystack.size())"
   ]
  },
  {
   "cell_type": "code",
   "execution_count": null,
   "metadata": {
    "collapsed": true
   },
   "outputs": [],
   "source": []
  }
 ],
 "metadata": {
  "kernelspec": {
   "display_name": "Python 3",
   "language": "python",
   "name": "python3"
  },
  "language_info": {
   "codemirror_mode": {
    "name": "ipython",
    "version": 3
   },
   "file_extension": ".py",
   "mimetype": "text/x-python",
   "name": "python",
   "nbconvert_exporter": "python",
   "pygments_lexer": "ipython3",
   "version": "3.6.0"
  }
 },
 "nbformat": 4,
 "nbformat_minor": 2
}
