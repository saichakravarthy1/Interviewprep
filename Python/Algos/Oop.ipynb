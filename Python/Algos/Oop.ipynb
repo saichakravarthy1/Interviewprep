{
 "cells": [
  {
   "cell_type": "code",
   "execution_count": 14,
   "metadata": {
    "collapsed": false
   },
   "outputs": [
    {
     "name": "stdout",
     "output_type": "stream",
     "text": [
      "3/5\n",
      "3 / 5\n",
      "6/8\n"
     ]
    }
   ],
   "source": [
    "class Fraction:\n",
    "    def __init__(self, top, bottom):\n",
    "        self.num = top\n",
    "        self.den = bottom\n",
    "    \n",
    "    def show(self):\n",
    "        print(self.num,\"/\", self.den)\n",
    "    \n",
    "    def __str__(self):\n",
    "        return str(self.num)+\"/\"+str(self.den)\n",
    "    \n",
    "    def gcd(one,two):\n",
    "        if one//two == one/two:\n",
    "            return two\n",
    "        else:\n",
    "            \n",
    "    \n",
    "    def __add__(self,otherfraction):\n",
    "        newnum = (self.num*otherfraction.den) + (otherfraction.num*self.den)\n",
    "        newden = self.den * otherfraction.den\n",
    "        return Fraction(newnum, newden)\n",
    "    \n",
    "    \n",
    "myfraction = Fraction(3,5)\n",
    "print(myfraction)\n",
    "myfraction.show()\n",
    "\n",
    "f1 = Fraction(1,4)\n",
    "f2 = Fraction(1,2)\n",
    "print(f1+f2)"
   ]
  },
  {
   "cell_type": "code",
   "execution_count": null,
   "metadata": {
    "collapsed": true
   },
   "outputs": [],
   "source": []
  }
 ],
 "metadata": {
  "kernelspec": {
   "display_name": "Python 3",
   "language": "python",
   "name": "python3"
  },
  "language_info": {
   "codemirror_mode": {
    "name": "ipython",
    "version": 3
   },
   "file_extension": ".py",
   "mimetype": "text/x-python",
   "name": "python",
   "nbconvert_exporter": "python",
   "pygments_lexer": "ipython3",
   "version": "3.6.0"
  }
 },
 "nbformat": 4,
 "nbformat_minor": 2
}
