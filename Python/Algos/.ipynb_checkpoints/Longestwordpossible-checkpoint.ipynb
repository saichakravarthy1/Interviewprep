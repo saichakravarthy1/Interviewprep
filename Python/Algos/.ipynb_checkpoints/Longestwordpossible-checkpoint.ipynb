{
 "cells": [
  {
   "cell_type": "code",
   "execution_count": 94,
   "metadata": {
    "collapsed": false
   },
   "outputs": [
    {
     "name": "stdout",
     "output_type": "stream",
     "text": [
      "** monkey **\n",
      "// 0\n",
      "// 1\n",
      "// 2\n",
      "// 3\n",
      "// 4\n",
      "// 5\n",
      "// 6\n",
      "// 7\n",
      "// 8\n",
      "// 9\n",
      "// 10\n",
      "** applet **\n",
      "// 0\n",
      "-- a --\n",
      "0\n",
      "// 1\n",
      "// 2\n",
      "-- p --\n",
      "1\n",
      "// 3\n",
      "// 4\n",
      "-- p --\n",
      "2\n",
      "// 5\n",
      "-- l --\n",
      "3\n",
      "// 6\n",
      "-- e --\n",
      "4\n",
      "// 7\n",
      "// 8\n",
      "-- t --\n",
      "5\n",
      "// 9\n",
      "// 10\n",
      "** apple **\n",
      "// 0\n",
      "-- a --\n",
      "0\n",
      "// 1\n",
      "// 2\n",
      "-- p --\n",
      "1\n",
      "// 3\n",
      "// 4\n",
      "-- p --\n",
      "2\n",
      "// 5\n",
      "-- l --\n",
      "3\n",
      "// 6\n",
      "-- e --\n",
      "4\n",
      "// 7\n",
      "// 8\n",
      "// 9\n",
      "// 10\n",
      "** ale **\n",
      "// 0\n",
      "-- a --\n",
      "0\n",
      "// 1\n",
      "// 2\n",
      "// 3\n",
      "// 4\n",
      "// 5\n",
      "-- l --\n",
      "1\n",
      "// 6\n",
      "-- e --\n",
      "2\n",
      "// 7\n",
      "// 8\n",
      "// 9\n",
      "// 10\n",
      "** plea **\n",
      "// 0\n",
      "// 1\n",
      "// 2\n",
      "-- p --\n",
      "0\n",
      "// 3\n",
      "// 4\n",
      "// 5\n",
      "-- l --\n",
      "1\n",
      "// 6\n",
      "-- e --\n",
      "2\n",
      "// 7\n",
      "-- a --\n",
      "3\n",
      "// 8\n",
      "// 9\n",
      "// 10\n",
      "applet\n"
     ]
    }
   ],
   "source": [
    "def longest_word(s,di):\n",
    "    n = len(s)\n",
    "    ma=\"\"\n",
    "    for i in di:\n",
    "        previous = True\n",
    "        print(\"**\",i,\"**\")\n",
    "        if not subsequence(i,s):\n",
    "            previous = False\n",
    "        if len(i)>len(ma) and previous:\n",
    "            ma = i\n",
    "    return ma\n",
    "\n",
    "def subsequence(word, string):\n",
    "    k = 0\n",
    "    for j in range((len(string))):\n",
    "        print(\"//\",j)\n",
    "        if k<len(word):\n",
    "            if word[k] == string[j] :\n",
    "                print(\"--\",string[j],\"--\")\n",
    "                print(k)\n",
    "                k += 1\n",
    "    return k == len(word)\n",
    "    \n",
    "\n",
    "print(longest_word(\"abpcpleatuv\",{\"ale\", \"apple\", \"applet\", \"monkey\", \"plea\"}))\n",
    "#print(subsequence(\"apple\", \"abpcplea\"))\n",
    "        "
   ]
  },
  {
   "cell_type": "code",
   "execution_count": 54,
   "metadata": {
    "collapsed": false
   },
   "outputs": [
    {
     "name": "stdout",
     "output_type": "stream",
     "text": [
      "apple\n",
      "ale\n",
      "monkey\n",
      "plea\n"
     ]
    }
   ],
   "source": [
    "di = {\"ale\", \"apple\", \"monkey\", \"plea\"}\n",
    "\n",
    "for i in di:\n",
    "    print(i)"
   ]
  },
  {
   "cell_type": "code",
   "execution_count": 70,
   "metadata": {
    "collapsed": false
   },
   "outputs": [
    {
     "name": "stdout",
     "output_type": "stream",
     "text": [
      "0\n",
      "1\n",
      "2\n",
      "3\n",
      "4\n",
      "5\n",
      "6\n",
      "7\n",
      "8\n"
     ]
    }
   ],
   "source": [
    "for i in range(9):\n",
    "    print(i)"
   ]
  },
  {
   "cell_type": "code",
   "execution_count": 86,
   "metadata": {
    "collapsed": false
   },
   "outputs": [
    {
     "name": "stdout",
     "output_type": "stream",
     "text": [
      "t\n",
      "9\n"
     ]
    }
   ],
   "source": [
    "string = \"abpcpleat\"\n",
    "print(string[8])\n",
    "print(len(string))"
   ]
  },
  {
   "cell_type": "code",
   "execution_count": null,
   "metadata": {
    "collapsed": true
   },
   "outputs": [],
   "source": []
  }
 ],
 "metadata": {
  "kernelspec": {
   "display_name": "Python 3",
   "language": "python",
   "name": "python3"
  },
  "language_info": {
   "codemirror_mode": {
    "name": "ipython",
    "version": 3
   },
   "file_extension": ".py",
   "mimetype": "text/x-python",
   "name": "python",
   "nbconvert_exporter": "python",
   "pygments_lexer": "ipython3",
   "version": "3.6.0"
  }
 },
 "nbformat": 4,
 "nbformat_minor": 2
}
