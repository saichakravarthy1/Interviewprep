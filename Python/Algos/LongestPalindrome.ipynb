{
 "cells": [
  {
   "cell_type": "code",
   "execution_count": 14,
   "metadata": {
    "collapsed": false
   },
   "outputs": [
    {
     "name": "stdout",
     "output_type": "stream",
     "text": [
      "-1 1\n",
      "a\n",
      "0 2\n",
      "-1 3\n",
      "aba\n",
      "1 3\n"
     ]
    },
    {
     "data": {
      "text/plain": [
       "'aba'"
      ]
     },
     "execution_count": 14,
     "metadata": {},
     "output_type": "execute_result"
    }
   ],
   "source": [
    "    def longestPalindrome(s):\n",
    "        \"\"\"\n",
    "        :type s: str\n",
    "        :rtype: str\n",
    "        \"\"\"\n",
    "        res = \"\"\n",
    "        for i in range(len(s)):\n",
    "            # odd case, like \"aba\"\n",
    "            tmp = helper(s, i, i)\n",
    "            if len(tmp) > len(res):\n",
    "                res = tmp\n",
    "                print(res)\n",
    "            # even case, like \"abba\"\n",
    "            tmp = helper(s, i, i+1)\n",
    "            if len(tmp) > len(res):\n",
    "                res = tmp\n",
    "                print(res)\n",
    "        return res\n",
    "    \n",
    "    def helper(s, l, r):\n",
    "        while l >= 0 and r < len(s) and s[l] == s[r]:\n",
    "            l -= 1; r += 1\n",
    "            print(l,r)\n",
    "        return s[l+1:r]\n",
    "    \n",
    "longestPalindrome('aba')"
   ]
  },
  {
   "cell_type": "code",
   "execution_count": 27,
   "metadata": {
    "collapsed": false
   },
   "outputs": [
    {
     "name": "stdout",
     "output_type": "stream",
     "text": [
      "-- 0 --\n",
      "a\n",
      "a\n",
      "-- 1 --\n",
      "b\n",
      "c\n",
      "b\n"
     ]
    }
   ],
   "source": [
    "#To solve the longest Palindrome in a given string, we have to cases.\n",
    "\n",
    "#One is an odd length palindromic string like aba and other is an even length palindromic string like baab.\n",
    "\n",
    "s = 'abbca'\n",
    "for i in range(len(s)):\n",
    "    print(\"--\",i,\"--\")\n",
    "    print(s[i])\n",
    "    print(s[-(i+1)])\n",
    "    if s[i] == s[-(i+1)]:\n",
    "        check = True\n",
    "    else:\n",
    "        check = False\n",
    "        break\n",
    "\n",
    "print(s[2:3])"
   ]
  },
  {
   "cell_type": "code",
   "execution_count": 31,
   "metadata": {
    "collapsed": false
   },
   "outputs": [
    {
     "data": {
      "text/plain": [
       "'abaaccaaba'"
      ]
     },
     "execution_count": 31,
     "metadata": {},
     "output_type": "execute_result"
    }
   ],
   "source": [
    "def longest_palindrome(s):\n",
    "    n = len(s)\n",
    "    result=\"\"\n",
    "    \n",
    "    for i in range(n):\n",
    "        temp = helper(s,i,i)\n",
    "        if len(temp)>len(result):\n",
    "            result = temp\n",
    "        temp = helper(s,i,i+1)\n",
    "        if len(temp)>len(result):\n",
    "            result = temp\n",
    "    return result\n",
    "\n",
    "def helper(s,l,r):\n",
    "    while l >=0 and r < len(s) and s[l] == s[r]:\n",
    "        l -= 1 \n",
    "        r += 1\n",
    "    return s[l+1:r]\n",
    "\n",
    "longest_palindrome('abaaccaaba')"
   ]
  },
  {
   "cell_type": "code",
   "execution_count": null,
   "metadata": {
    "collapsed": true
   },
   "outputs": [],
   "source": []
  }
 ],
 "metadata": {
  "kernelspec": {
   "display_name": "Python 3",
   "language": "python",
   "name": "python3"
  },
  "language_info": {
   "codemirror_mode": {
    "name": "ipython",
    "version": 3
   },
   "file_extension": ".py",
   "mimetype": "text/x-python",
   "name": "python",
   "nbconvert_exporter": "python",
   "pygments_lexer": "ipython3",
   "version": "3.6.0"
  }
 },
 "nbformat": 4,
 "nbformat_minor": 2
}
