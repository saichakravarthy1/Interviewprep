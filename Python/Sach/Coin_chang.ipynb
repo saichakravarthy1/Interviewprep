{
 "cells": [
  {
   "cell_type": "code",
   "execution_count": 9,
   "metadata": {
    "collapsed": false
   },
   "outputs": [
    {
     "name": "stdout",
     "output_type": "stream",
     "text": [
      "rem: 4\n",
      "rem: 4\n",
      "rem: 4\n",
      "ways: 0\n",
      "amo: 3\n",
      "rem: 1\n",
      "ways: 0\n",
      "amo: 6\n",
      "dict {'4-2': 0}\n",
      "ways: 0\n",
      "amo: 2\n",
      "rem: 2\n",
      "rem: 2\n",
      "ways: 0\n",
      "amo: 3\n",
      "dict {'4-2': 0, '2-2': 0}\n",
      "ways: 0\n",
      "amo: 4\n",
      "rem: 0\n",
      "ways: 1\n",
      "amo: 6\n",
      "dict {'4-2': 0, '2-2': 0, '4-1': 1}\n",
      "ways: 1\n",
      "amo: 1\n",
      "rem: 3\n",
      "rem: 3\n",
      "rem: 3\n",
      "ways: 0\n",
      "amo: 3\n",
      "rem: 0\n",
      "ways: 1\n",
      "amo: 6\n",
      "dict {'4-2': 0, '2-2': 0, '4-1': 1, '3-2': 1}\n",
      "ways: 1\n",
      "amo: 2\n",
      "rem: 1\n",
      "rem: 1\n",
      "ways: 0\n",
      "amo: 3\n",
      "dict {'4-2': 0, '2-2': 0, '4-1': 1, '3-2': 1, '1-2': 0}\n",
      "ways: 1\n",
      "amo: 4\n",
      "dict {'4-2': 0, '2-2': 0, '4-1': 1, '3-2': 1, '1-2': 0, '3-1': 1}\n",
      "ways: 2\n",
      "amo: 2\n",
      "rem: 2\n",
      "rem: 2\n",
      "ways: 0\n",
      "amo: 2\n",
      "rem: 0\n",
      "ways: 1\n",
      "amo: 4\n",
      "dict {'4-2': 0, '2-2': 0, '4-1': 1, '3-2': 1, '1-2': 0, '3-1': 1, '2-1': 1}\n",
      "ways: 3\n",
      "amo: 3\n",
      "rem: 1\n",
      "rem: 1\n",
      "ways: 0\n",
      "amo: 2\n",
      "dict {'4-2': 0, '2-2': 0, '4-1': 1, '3-2': 1, '1-2': 0, '3-1': 1, '2-1': 1, '1-1': 0}\n",
      "ways: 3\n",
      "amo: 4\n",
      "rem: 0\n",
      "ways: 4\n",
      "amo: 5\n",
      "dict {'4-0': 4}\n",
      "4\n"
     ]
    }
   ],
   "source": [
    "def getWays(n, c, dp, di={}):\n",
    "    if n == 0:\n",
    "        return 1\n",
    "    if dp >= len(c):\n",
    "        return 0\n",
    "    key = str(n) + \"-\" + str(dp)\n",
    "    if key in di:\n",
    "        return di[key]\n",
    "    amount = 0\n",
    "    ways = 0\n",
    "    while amount <= n:\n",
    "        remaining = n - amount\n",
    "        print(\"rem:\",remaining)\n",
    "        ways += getWays(remaining,c,dp+1)\n",
    "        print(\"ways:\",ways)\n",
    "        amount += c[dp]\n",
    "        print(\"amo:\",amount)\n",
    "    di[key] = ways\n",
    "    print(\"dict\",di)\n",
    "    return ways\n",
    "\n",
    "ways = getWays(4, [1,2,3], 0, {})\n",
    "print(ways)\n",
    "    "
   ]
  },
  {
   "cell_type": "code",
   "execution_count": null,
   "metadata": {
    "collapsed": true
   },
   "outputs": [],
   "source": []
  }
 ],
 "metadata": {
  "kernelspec": {
   "display_name": "Python 3",
   "language": "python",
   "name": "python3"
  },
  "language_info": {
   "codemirror_mode": {
    "name": "ipython",
    "version": 3
   },
   "file_extension": ".py",
   "mimetype": "text/x-python",
   "name": "python",
   "nbconvert_exporter": "python",
   "pygments_lexer": "ipython3",
   "version": "3.6.0"
  }
 },
 "nbformat": 4,
 "nbformat_minor": 2
}
