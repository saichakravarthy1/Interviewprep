{
 "cells": [
  {
   "cell_type": "code",
   "execution_count": 5,
   "metadata": {
    "collapsed": false
   },
   "outputs": [
    {
     "name": "stdout",
     "output_type": "stream",
     "text": [
      "['I', 'love']\n"
     ]
    }
   ],
   "source": [
    "def songLyrics(lyrics):\n",
    "    word_dict ={}\n",
    "    for word in lyrics:\n",
    "        if word in word_dict:\n",
    "            word_dict[word] += 1\n",
    "        else:\n",
    "            word_dict[word] = 1\n",
    "    return word_dict\n",
    "\n",
    "def most_common(word_dict):\n",
    "    mx = max(word_dict.values())\n",
    "    words = []\n",
    "    for i in word_dict:\n",
    "        if word_dict[i] == mx:\n",
    "            words.append(i)\n",
    "    return words\n",
    "    \n",
    "\n",
    "print(most_common(songLyrics([\"I\", \"am\", \"in\", \"love\", \"with\", \"the\", \"shape\", \"of\", \"you\", \"I\", \"love\", \"your\", \"body\"])))"
   ]
  },
  {
   "cell_type": "code",
   "execution_count": null,
   "metadata": {
    "collapsed": true
   },
   "outputs": [],
   "source": []
  }
 ],
 "metadata": {
  "kernelspec": {
   "display_name": "Python 3",
   "language": "python",
   "name": "python3"
  },
  "language_info": {
   "codemirror_mode": {
    "name": "ipython",
    "version": 3
   },
   "file_extension": ".py",
   "mimetype": "text/x-python",
   "name": "python",
   "nbconvert_exporter": "python",
   "pygments_lexer": "ipython3",
   "version": "3.6.0"
  }
 },
 "nbformat": 4,
 "nbformat_minor": 2
}
