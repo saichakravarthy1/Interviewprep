{
 "cells": [
  {
   "cell_type": "code",
   "execution_count": null,
   "metadata": {
    "collapsed": true
   },
   "outputs": [],
   "source": [
    "class Node():\n",
    "    def __init__(self, d, n = None):\n",
    "        self.data = d\n",
    "        self.next_node = n\n",
    "        \n",
    "    def get_next(self):\n",
    "        return self.next_node\n",
    "        \n",
    "    def set_next(self, n):\n",
    "        self.next_node = n\n",
    "        \n",
    "    def get_data(self):\n",
    "        return self.data\n",
    "    \n",
    "    def set_data(self, d):\n",
    "        self.data = d\n",
    "        \n",
    "class Linked_list():\n",
    "    def __init__(self, r = None):\n",
    "        self.root = r\n",
    "        self.size = 0\n",
    "        \n",
    "    def get_size(self):\n",
    "        return self.size\n",
    "    \n",
    "    \n",
    "        \n",
    "        \n",
    "        \n",
    "        "
   ]
  },
  {
   "cell_type": "code",
   "execution_count": null,
   "metadata": {
    "collapsed": true
   },
   "outputs": [],
   "source": [
    "class Node():\n",
    "    def __init__(self, d, n=None):\n",
    "        self.data = d\n",
    "        self.next_node = n\n",
    "        \n",
    "    def get_next(self):\n",
    "        return self.next_node\n",
    "    \n",
    "    def get_value(self):\n",
    "        return sefl.data\n",
    "    \n",
    "    def set_data(self, d):\n",
    "        self.data = d\n",
    "        \n",
    "    def set_next(self, n):\n",
    "        self.next_node = n\n",
    "        \n",
    "\n",
    "class Linked_list():\n",
    "    def __init__(self, h=None):\n",
    "        self.head = h\n",
    "        self.size = 0\n",
    "        \n",
    "    def insert(self, data):\n",
    "        new_node = Node(data)\n",
    "        new_node.set_next(self.head)\n",
    "        self.head = new_node\n",
    "        self.size = self.size + 1;\n",
    "        \n",
    "    def delete(self, d):\n",
    "        \n",
    "        \n",
    "        \n",
    "        \n",
    "        \n",
    "        \n",
    "    \n",
    "        \n",
    "        \n",
    "    \n",
    "        \n",
    "        \n",
    "        "
   ]
  }
 ],
 "metadata": {
  "kernelspec": {
   "display_name": "Python 3",
   "language": "python",
   "name": "python3"
  },
  "language_info": {
   "codemirror_mode": {
    "name": "ipython",
    "version": 3
   },
   "file_extension": ".py",
   "mimetype": "text/x-python",
   "name": "python",
   "nbconvert_exporter": "python",
   "pygments_lexer": "ipython3",
   "version": "3.6.0"
  }
 },
 "nbformat": 4,
 "nbformat_minor": 2
}
