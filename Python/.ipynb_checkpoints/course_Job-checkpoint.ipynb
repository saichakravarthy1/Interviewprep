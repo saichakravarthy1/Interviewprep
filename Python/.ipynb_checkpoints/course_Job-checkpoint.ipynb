{
 "cells": [
  {
   "cell_type": "code",
   "execution_count": null,
   "metadata": {
    "collapsed": true
   },
   "outputs": [],
   "source": [
    "import unittest\n",
    "\n",
    "def capitalize():\n",
    "    \n",
    "    \n",
    "    \n",
    "    \n",
    "class Test(unittest.TestCase):\n",
    "    dataT = [('wHy DoeS A biRd Fly'),]\n",
    "    \n",
    "    def test_capitalize(self):\n",
    "        for test_string in dataT:\n",
    "            actual = capitalize(test_string)\n",
    "            self.assertEqual(actual)\n",
    "            \n",
    "            \n",
    "if __name__ = '__main__':\n",
    "    unittest.main()\n",
    "        \n",
    "        \n",
    "    "
   ]
  }
 ],
 "metadata": {
  "kernelspec": {
   "display_name": "Python 3",
   "language": "python",
   "name": "python3"
  },
  "language_info": {
   "codemirror_mode": {
    "name": "ipython",
    "version": 3
   },
   "file_extension": ".py",
   "mimetype": "text/x-python",
   "name": "python",
   "nbconvert_exporter": "python",
   "pygments_lexer": "ipython3",
   "version": "3.6.0"
  }
 },
 "nbformat": 4,
 "nbformat_minor": 2
}
