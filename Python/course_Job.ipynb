{
 "cells": [
  {
   "cell_type": "code",
   "execution_count": null,
   "metadata": {
    "collapsed": true
   },
   "outputs": [],
   "source": [
    "import unittest\n",
    "\n",
    "def capitalize():\n",
    "    #split the string in by spaces\n",
    "    #capitalize the word[0]\n",
    "    #capitalize the word[last]\n",
    "    #for each word from word[1] to word[last - 1]\n",
    "        #if list contains the word \n",
    "            #lowercase the word\n",
    "        #else \n",
    "            #capitalize the word\n",
    "            \n",
    "    \n",
    "    \n",
    "    \n",
    "class Test(unittest.TestCase):\n",
    "    dataT = [('wHy DoeS A biRd Fly'),]\n",
    "    dataA = [('Why Does a Bird Fly'),]\n",
    "    \n",
    "    def test_capitalize(self):\n",
    "        for test_string,actual_string in dataT,dataA:\n",
    "            actual = capitalize(test_string)\n",
    "            self.assertEqual(actual,actual_string)\n",
    "            \n",
    "            \n",
    "if __name__ = '__main__':\n",
    "    unittest.main()\n",
    "        \n",
    "        \n",
    "    "
   ]
  }
 ],
 "metadata": {
  "kernelspec": {
   "display_name": "Python 3",
   "language": "python",
   "name": "python3"
  },
  "language_info": {
   "codemirror_mode": {
    "name": "ipython",
    "version": 3
   },
   "file_extension": ".py",
   "mimetype": "text/x-python",
   "name": "python",
   "nbconvert_exporter": "python",
   "pygments_lexer": "ipython3",
   "version": "3.6.0"
  }
 },
 "nbformat": 4,
 "nbformat_minor": 2
}
