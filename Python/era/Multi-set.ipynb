{
 "cells": [
  {
   "cell_type": "code",
   "execution_count": 5,
   "metadata": {},
   "outputs": [
    {
     "name": "stdout",
     "output_type": "stream",
     "text": [
      "False\n"
     ]
    }
   ],
   "source": [
    "class SetWithSubset(set):\n",
    "    def subsets(self):\n",
    "        s1 = []\n",
    "        s2 = list(self)\n",
    "\n",
    "        def recfunc(i=0):            \n",
    "            if i == len(s2):\n",
    "                yield frozenset(s1)\n",
    "            else:                \n",
    "                yield from recfunc(i + 1)\n",
    "                s1.append(s2[ i ])\n",
    "                yield from recfunc(i + 1)\n",
    "                s1.pop()\n",
    "\n",
    "        yield from recfunc()\n",
    "\n",
    "S = {'apple', 'apple', 'banana'}\n",
    "\n",
    "x = SetWithSubset({'apple', 'apple', 'banana'})\n",
    "print({'apple','banana'} in x)"
   ]
  },
  {
   "cell_type": "code",
   "execution_count": null,
   "metadata": {
    "collapsed": true
   },
   "outputs": [],
   "source": []
  }
 ],
 "metadata": {
  "kernelspec": {
   "display_name": "Python 3",
   "language": "python",
   "name": "python3"
  },
  "language_info": {
   "codemirror_mode": {
    "name": "ipython",
    "version": 3
   },
   "file_extension": ".py",
   "mimetype": "text/x-python",
   "name": "python",
   "nbconvert_exporter": "python",
   "pygments_lexer": "ipython3",
   "version": "3.6.1"
  }
 },
 "nbformat": 4,
 "nbformat_minor": 2
}
