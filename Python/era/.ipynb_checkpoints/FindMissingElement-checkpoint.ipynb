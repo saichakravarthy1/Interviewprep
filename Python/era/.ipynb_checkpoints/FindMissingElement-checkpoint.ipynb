{
 "cells": [
  {
   "cell_type": "code",
   "execution_count": 13,
   "metadata": {
    "collapsed": true
   },
   "outputs": [],
   "source": [
    "def finder(ar1,ar2):\n",
    "    dic = {}\n",
    "    if len(ar1) < len(ar2):\n",
    "        pr = ar1\n",
    "        sr = ar2\n",
    "    else:\n",
    "        pr = ar2\n",
    "        sr = ar1\n",
    "    for i in pr:\n",
    "        if i not in dic:\n",
    "            dic[i] = 1\n",
    "        else:\n",
    "            dic[i] +=1\n",
    "    \n",
    "    for i in sr:\n",
    "        if i not in dic or dic[i] == 0 :\n",
    "            return i\n",
    "        else:\n",
    "            dic[i] -= 1"
   ]
  },
  {
   "cell_type": "code",
   "execution_count": 14,
   "metadata": {},
   "outputs": [
    {
     "data": {
      "text/plain": [
       "5"
      ]
     },
     "execution_count": 14,
     "metadata": {},
     "output_type": "execute_result"
    }
   ],
   "source": [
    "finder([1,2,3,4,5,6,7],[2,7,3,1,4,6])"
   ]
  },
  {
   "cell_type": "code",
   "execution_count": null,
   "metadata": {
    "collapsed": true
   },
   "outputs": [],
   "source": [
    "def finder1(ar1, ar2):\n",
    "    ar1.sort()\n",
    "    ar2.sort()\n",
    "    \n",
    "    for num1, num2 in zip(ar1,ar2):\n",
    "        if num1 != num2:\n",
    "            return num1\n",
    "    \n",
    "    return arr1[-1]"
   ]
  }
 ],
 "metadata": {
  "kernelspec": {
   "display_name": "Python 3",
   "language": "python",
   "name": "python3"
  },
  "language_info": {
   "codemirror_mode": {
    "name": "ipython",
    "version": 3
   },
   "file_extension": ".py",
   "mimetype": "text/x-python",
   "name": "python",
   "nbconvert_exporter": "python",
   "pygments_lexer": "ipython3",
   "version": "3.6.1"
  }
 },
 "nbformat": 4,
 "nbformat_minor": 2
}
