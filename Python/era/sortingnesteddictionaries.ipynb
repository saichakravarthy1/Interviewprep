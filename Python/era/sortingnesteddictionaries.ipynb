{
 "cells": [
  {
   "cell_type": "code",
   "execution_count": 3,
   "metadata": {},
   "outputs": [],
   "source": [
    "import collections\n",
    "\n",
    "di = {'b':{'cb':'cranberry', 'bb':'blueberry'}, 'a':'apple', 'c':'cherry'}\n",
    "\n",
    "ordr_di = collections.OrderedDict(di)"
   ]
  },
  {
   "cell_type": "code",
   "execution_count": 4,
   "metadata": {},
   "outputs": [
    {
     "name": "stdout",
     "output_type": "stream",
     "text": [
      "OrderedDict([('b', {'cb': 'cranberry', 'bb': 'blueberry'}), ('a', 'apple'), ('c', 'cherry')])\n"
     ]
    }
   ],
   "source": [
    "print(ordr_di)"
   ]
  },
  {
   "cell_type": "code",
   "execution_count": 39,
   "metadata": {},
   "outputs": [],
   "source": [
    "def sort_nested(di):\n",
    "    sor = sorted(di)\n",
    "    print(type(sor))\n",
    "    if sor == None:\n",
    "        return sor\n",
    "    s_di = {}\n",
    "    for i in sor:\n",
    "        if i in di:\n",
    "            s_di[i] = di[i]\n",
    "    return s_di"
   ]
  },
  {
   "cell_type": "code",
   "execution_count": 41,
   "metadata": {},
   "outputs": [
    {
     "name": "stdout",
     "output_type": "stream",
     "text": [
      "<class 'list'>\n",
      "{'a': 'apple', 'b': {'cb': 'cranberry', 'bb': 'blueberry'}, 'c': 'cherry'}\n",
      "<class 'dict'>\n"
     ]
    }
   ],
   "source": [
    "print(sort_nested(di))\n",
    "print(type(di))"
   ]
  },
  {
   "cell_type": "code",
   "execution_count": 74,
   "metadata": {
    "collapsed": true
   },
   "outputs": [],
   "source": [
    "def srt(di):\n",
    "    sor = sorted(di)\n",
    "    s_di = {}\n",
    "    for i in sor:\n",
    "        if i in di:\n",
    "            if str(type(di[i])) == \"<class 'dict'>\":\n",
    "                s_di[i] = srt(di[i])\n",
    "            else:\n",
    "                s_di[i] = di[i]\n",
    "    return s_di"
   ]
  },
  {
   "cell_type": "code",
   "execution_count": 75,
   "metadata": {},
   "outputs": [
    {
     "name": "stdout",
     "output_type": "stream",
     "text": [
      "{'a': 'apple', 'b': {'bb': 'blueberry', 'cb': 'cranberry'}, 'c': 'cherry'}\n"
     ]
    }
   ],
   "source": [
    "print(srt(di))"
   ]
  },
  {
   "cell_type": "code",
   "execution_count": null,
   "metadata": {},
   "outputs": [],
   "source": [
    "\n",
    "    "
   ]
  },
  {
   "cell_type": "code",
   "execution_count": null,
   "metadata": {
    "collapsed": true
   },
   "outputs": [],
   "source": [
    "\"\"\"for (k,v) in s_di.items():\n",
    "        if type(v) == \"<class 'dict'>\":\n",
    "            srt(v)\"\"\""
   ]
  }
 ],
 "metadata": {
  "kernelspec": {
   "display_name": "Python 3",
   "language": "python",
   "name": "python3"
  },
  "language_info": {
   "codemirror_mode": {
    "name": "ipython",
    "version": 3
   },
   "file_extension": ".py",
   "mimetype": "text/x-python",
   "name": "python",
   "nbconvert_exporter": "python",
   "pygments_lexer": "ipython3",
   "version": "3.6.1"
  }
 },
 "nbformat": 4,
 "nbformat_minor": 2
}
