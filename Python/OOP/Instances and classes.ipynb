{
 "cells": [
  {
   "cell_type": "code",
   "execution_count": null,
   "metadata": {
    "collapsed": true
   },
   "outputs": [],
   "source": [
    "class Employee:\n",
    "    raise_amount = 1.04\n",
    "    num_of_emp = 0\n",
    "    def __init__(self, first, last, pay):\n",
    "        self.first = fist\n",
    "        self.last = last\n",
    "        self.pay = pay\n",
    "        self.employee = first + '.' + last + '@company.com'\n",
    "        Employee.num_of_emp += 1\n",
    "    \n",
    "    def full_name(self):\n",
    "        return '{}{}'.format(self.first, self.last)\n",
    "    \n",
    "    def raise_amount(self):\n",
    "        self.pay = int(self.pay * self.raise_amount)\n",
    "        \n",
    "    \n",
    "    "
   ]
  }
 ],
 "metadata": {
  "kernelspec": {
   "display_name": "Python 3",
   "language": "python",
   "name": "python3"
  },
  "language_info": {
   "codemirror_mode": {
    "name": "ipython",
    "version": 3
   },
   "file_extension": ".py",
   "mimetype": "text/x-python",
   "name": "python",
   "nbconvert_exporter": "python",
   "pygments_lexer": "ipython3",
   "version": "3.6.0"
  }
 },
 "nbformat": 4,
 "nbformat_minor": 2
}
